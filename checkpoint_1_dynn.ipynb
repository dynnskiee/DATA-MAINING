{
  "nbformat": 4,
  "nbformat_minor": 0,
  "metadata": {
    "colab": {
      "provenance": [],
      "authorship_tag": "ABX9TyOECkzdAS77K7eAZ6WMrYD4",
      "include_colab_link": true
    },
    "kernelspec": {
      "name": "python3",
      "display_name": "Python 3"
    },
    "language_info": {
      "name": "python"
    }
  },
  "cells": [
    {
      "cell_type": "markdown",
      "metadata": {
        "id": "view-in-github",
        "colab_type": "text"
      },
      "source": [
        "<a href=\"https://colab.research.google.com/github/dynnskiee/checkpoint1/blob/main/checkpoint_1_dynn.ipynb\" target=\"_parent\"><img src=\"https://colab.research.google.com/assets/colab-badge.svg\" alt=\"Open In Colab\"/></a>"
      ]
    },
    {
      "cell_type": "markdown",
      "source": [
        "# **Memahami Preferensi Penggemar Superhero dengan Analisis Data**"
      ],
      "metadata": {
        "id": "_XR47VH5mR_Z"
      }
    },
    {
      "cell_type": "markdown",
      "source": [
        "## **Business Understanding**"
      ],
      "metadata": {
        "id": "5-luFdGKZvQi"
      }
    },
    {
      "cell_type": "markdown",
      "source": [
        "Tujuan Bisnis"
      ],
      "metadata": {
        "id": "jzwYGzytbTej"
      }
    },
    {
      "cell_type": "markdown",
      "source": [
        "Tujuan bisnis dari memahami preferensi penggemar superhero dengan analisis data adalah untuk meningkatkan pemahaman tentang preferensi dan perilaku penggemar superhero. Hal ini dapat membantu dalam mengarahkan strategi pemasaran, pengembangan produk, dan layanan yang lebih sesuai dengan kebutuhan dan keinginan pasar. Dengan pemahaman yang lebih baik tentang preferensi penggemar, perusahaan dapat meningkatkan loyalitas pelanggan, mengoptimalkan penjualan, dan mencapai keunggulan kompetitif."
      ],
      "metadata": {
        "id": "NrTOSCGqcHi0"
      }
    },
    {
      "cell_type": "markdown",
      "source": [
        "Menilai Situasi"
      ],
      "metadata": {
        "id": "YMxxMy9PcLHC"
      }
    },
    {
      "cell_type": "markdown",
      "source": [
        "Dalam menilai situasi, penting untuk memahami konteks industri, tren pasar, dan perilaku konsumen terkait superhero. Hal ini melibatkan pengumpulan data tentang penjualan produk superhero, popularitas karakter superhero tertentu, demografi penggemar, preferensi konsumen, dan analisis pesaing. Dengan pemahaman yang baik tentang situasi pasar saat ini, perusahaan dapat mengidentifikasi peluang dan tantangan yang ada."
      ],
      "metadata": {
        "id": "0x-PmlBKf4gF"
      }
    },
    {
      "cell_type": "markdown",
      "source": [
        "Tujuan Data Mining"
      ],
      "metadata": {
        "id": "_cGFKXwAf8IV"
      }
    },
    {
      "cell_type": "markdown",
      "source": [
        "Tujuan data mining dalam konteks ini adalah untuk mengeksplorasi dan menganalisis data yang terkait dengan preferensi penggemar superhero dengan tujuan menemukan pola-pola atau wawasan yang berguna. Ini bisa termasuk mengidentifikasi tren dalam preferensi karakter superhero, menentukan faktor-faktor yang mempengaruhi keputusan pembelian, atau mengklasifikasikan penggemar berdasarkan preferensi mereka. Data mining dapat membantu mengungkapkan informasi berharga yang dapat digunakan untuk mengoptimalkan strategi pemasaran dan pengambilan keputusan."
      ],
      "metadata": {
        "id": "XpPegVvEgBAC"
      }
    },
    {
      "cell_type": "markdown",
      "source": [
        "Perencanaan Proyek"
      ],
      "metadata": {
        "id": "IXvf23BxgEn_"
      }
    },
    {
      "cell_type": "markdown",
      "source": [
        "Perencanaan proyek untuk memahami preferensi penggemar superhero dengan analisis data melibatkan langkah-langkah seperti:\n",
        "\n",
        "1. Identifikasi tujuan proyek yang jelas, seperti meningkatkan\n",
        "penjualan produk superhero atau meningkatkan pengalaman penggemar.\n",
        "2. Pengumpulan sumber daya yang diperlukan, termasuk data tentang penjualan, preferensi penggemar, dan alat analisis data yang sesuai.\n",
        "3. Penjadwalan kegiatan proyek, termasuk tahapan pengumpulan data, analisis data, dan penerapan wawasan yang ditemukan.\n",
        "4. Penetapan anggaran untuk proyek, termasuk biaya pengumpulan data, biaya analisis, dan biaya implementasi strategi berdasarkan hasil analisis.\n",
        "5. Pengembangan metrik untuk mengevaluasi keberhasilan proyek, seperti peningkatan penjualan atau tingkat kepuasan penggemar.\n",
        "6. Identifikasi stakeholder proyek dan komunikasi secara teratur tentang kemajuan proyek serta temuan yang ditemukan.\n",
        "7. Penyusunan rencana mitigasi risiko untuk mengantisipasi dan mengatasi hambatan yang mungkin muncul selama pelaksanaan proyek."
      ],
      "metadata": {
        "id": "l_GM5skSgLzk"
      }
    }
  ]
}