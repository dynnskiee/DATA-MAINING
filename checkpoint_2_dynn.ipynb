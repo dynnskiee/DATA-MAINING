{
  "nbformat": 4,
  "nbformat_minor": 0,
  "metadata": {
    "colab": {
      "provenance": [],
      "authorship_tag": "ABX9TyOd/rYD00wd47Dps3MPgCSG",
      "include_colab_link": true
    },
    "kernelspec": {
      "name": "python3",
      "display_name": "Python 3"
    },
    "language_info": {
      "name": "python"
    }
  },
  "cells": [
    {
      "cell_type": "markdown",
      "metadata": {
        "id": "view-in-github",
        "colab_type": "text"
      },
      "source": [
        "<a href=\"https://colab.research.google.com/github/dynnskiee/DATA-MAINING/blob/main/checkpoint_2_dynn.ipynb\" target=\"_parent\"><img src=\"https://colab.research.google.com/assets/colab-badge.svg\" alt=\"Open In Colab\"/></a>"
      ]
    },
    {
      "cell_type": "markdown",
      "source": [
        "# **Memahami Preferensi Penggemar Superhero dengan Analisis Data**"
      ],
      "metadata": {
        "id": "_XR47VH5mR_Z"
      }
    },
    {
      "cell_type": "markdown",
      "source": [
        "# **Import Library**"
      ],
      "metadata": {
        "id": "GXeCf6eFGIDi"
      }
    },
    {
      "cell_type": "code",
      "source": [
        "import pandas as pd\n",
        "import seaborn as sns\n",
        "import matplotlib.pyplot as plt"
      ],
      "metadata": {
        "id": "cSjdJRTMGL1K"
      },
      "execution_count": null,
      "outputs": []
    },
    {
      "cell_type": "markdown",
      "source": [
        "# **Business Understanding**"
      ],
      "metadata": {
        "id": "5-luFdGKZvQi"
      }
    },
    {
      "cell_type": "markdown",
      "source": [
        "## **Tujuan Bisnis**"
      ],
      "metadata": {
        "id": "jzwYGzytbTej"
      }
    },
    {
      "cell_type": "markdown",
      "source": [
        "Tujuan bisnis dari memahami preferensi penggemar superhero dengan analisis data adalah untuk meningkatkan pemahaman tentang preferensi dan perilaku penggemar superhero. Hal ini dapat membantu dalam mengarahkan strategi pemasaran, pengembangan produk, dan layanan yang lebih sesuai dengan kebutuhan dan keinginan pasar. Dengan pemahaman yang lebih baik tentang preferensi penggemar, perusahaan dapat meningkatkan loyalitas pelanggan, mengoptimalkan penjualan, dan mencapai keunggulan kompetitif."
      ],
      "metadata": {
        "id": "NrTOSCGqcHi0"
      }
    },
    {
      "cell_type": "markdown",
      "source": [
        "## **Menilai Situasi**"
      ],
      "metadata": {
        "id": "YMxxMy9PcLHC"
      }
    },
    {
      "cell_type": "markdown",
      "source": [
        "Dalam menilai situasi, penting untuk memahami konteks industri, tren pasar, dan perilaku konsumen terkait superhero. Hal ini melibatkan pengumpulan data tentang penjualan produk superhero, popularitas karakter superhero tertentu, demografi penggemar, preferensi konsumen, dan analisis pesaing. Dengan pemahaman yang baik tentang situasi pasar saat ini, perusahaan dapat mengidentifikasi peluang dan tantangan yang ada."
      ],
      "metadata": {
        "id": "0x-PmlBKf4gF"
      }
    },
    {
      "cell_type": "markdown",
      "source": [
        "## **Tujuan Data Mining**"
      ],
      "metadata": {
        "id": "_cGFKXwAf8IV"
      }
    },
    {
      "cell_type": "markdown",
      "source": [
        "Tujuan data mining dalam konteks ini adalah untuk mengeksplorasi dan menganalisis data yang terkait dengan preferensi penggemar superhero dengan tujuan menemukan pola-pola atau wawasan yang berguna. Ini bisa termasuk mengidentifikasi tren dalam preferensi karakter superhero, menentukan faktor-faktor yang mempengaruhi keputusan pembelian, atau mengklasifikasikan penggemar berdasarkan preferensi mereka. Data mining dapat membantu mengungkapkan informasi berharga yang dapat digunakan untuk mengoptimalkan strategi pemasaran dan pengambilan keputusan."
      ],
      "metadata": {
        "id": "XpPegVvEgBAC"
      }
    },
    {
      "cell_type": "markdown",
      "source": [
        "## **Perencanaan Proyek**"
      ],
      "metadata": {
        "id": "IXvf23BxgEn_"
      }
    },
    {
      "cell_type": "markdown",
      "source": [
        "Perencanaan proyek untuk memahami preferensi penggemar superhero dengan analisis data melibatkan langkah-langkah seperti:\n",
        "\n",
        "1. Identifikasi tujuan proyek yang jelas, seperti meningkatkan\n",
        "penjualan produk superhero atau meningkatkan pengalaman penggemar.\n",
        "2. Pengumpulan sumber daya yang diperlukan, termasuk data tentang penjualan, preferensi penggemar, dan alat analisis data yang sesuai.\n",
        "3. Penjadwalan kegiatan proyek, termasuk tahapan pengumpulan data, analisis data, dan penerapan wawasan yang ditemukan.\n",
        "4. Penetapan anggaran untuk proyek, termasuk biaya pengumpulan data, biaya analisis, dan biaya implementasi strategi berdasarkan hasil analisis.\n",
        "5. Pengembangan metrik untuk mengevaluasi keberhasilan proyek, seperti peningkatan penjualan atau tingkat kepuasan penggemar.\n",
        "6. Identifikasi stakeholder proyek dan komunikasi secara teratur tentang kemajuan proyek serta temuan yang ditemukan.\n",
        "7. Penyusunan rencana mitigasi risiko untuk mengantisipasi dan mengatasi hambatan yang mungkin muncul selama pelaksanaan proyek."
      ],
      "metadata": {
        "id": "l_GM5skSgLzk"
      }
    },
    {
      "cell_type": "markdown",
      "source": [
        "# **Data Understanding**"
      ],
      "metadata": {
        "id": "z4tfGwjCHc3v"
      }
    },
    {
      "cell_type": "markdown",
      "source": [
        "## **Collect Initial Data**"
      ],
      "metadata": {
        "id": "YamtwBq2HkWR"
      }
    },
    {
      "cell_type": "markdown",
      "source": [
        "Dataset yang disediakan oleh Kaggle dengan judul \"Super Heroes Dataset\" merupakan kumpulan data yang dibuat oleh pengguna bernama Claudio Davi. Sumber data ini tidak secara spesifik disebutkan di deskripsi dataset tersebut. Namun, dapat diasumsikan bahwa sumber data ini mungkin dikumpulkan dari berbagai sumber, seperti komik, film, serial televisi, situs web resmi superhero, atau sumber-sumber lainnya yang terkait dengan karakter superhero.\n",
        "\n",
        "Dataset ini berisi informasi tentang karakter superhero, termasuk nama karakter, gender, alignment (misalnya, apakah mereka hero atau villain), kemampuan khusus, kekuatan, kelemahan, dan detail lainnya yang terkait dengan karakter superhero tersebut.\n",
        "\n",
        "Berikut link Super Heroes Dataset :\n",
        "https://www.kaggle.com/datasets/claudiodavi/superhero-set/data"
      ],
      "metadata": {
        "id": "aJselVCZHv1U"
      }
    },
    {
      "cell_type": "code",
      "source": [
        "df = pd.read_csv('heroes_information.csv')\n",
        "df"
      ],
      "metadata": {
        "colab": {
          "base_uri": "https://localhost:8080/",
          "height": 423
        },
        "id": "hzOQP0cOQ9aD",
        "outputId": "f9c875f4-2b00-41b4-e08d-883b25240d2f"
      },
      "execution_count": null,
      "outputs": [
        {
          "output_type": "execute_result",
          "data": {
            "text/plain": [
              "     Unnamed: 0             name  Gender Eye color               Race  \\\n",
              "0             0           A-Bomb    Male    yellow              Human   \n",
              "1             1       Abe Sapien    Male      blue      Icthyo Sapien   \n",
              "2             2         Abin Sur    Male      blue            Ungaran   \n",
              "3             3      Abomination    Male     green  Human / Radiation   \n",
              "4             4          Abraxas    Male      blue      Cosmic Entity   \n",
              "..          ...              ...     ...       ...                ...   \n",
              "729         729  Yellowjacket II  Female      blue              Human   \n",
              "730         730             Ymir    Male     white        Frost Giant   \n",
              "731         731             Yoda    Male     brown     Yoda's species   \n",
              "732         732          Zatanna  Female      blue              Human   \n",
              "733         733             Zoom    Male       red                  -   \n",
              "\n",
              "           Hair color  Height          Publisher Skin color Alignment  Weight  \n",
              "0             No Hair   203.0      Marvel Comics          -      good   441.0  \n",
              "1             No Hair   191.0  Dark Horse Comics       blue      good    65.0  \n",
              "2             No Hair   185.0          DC Comics        red      good    90.0  \n",
              "3             No Hair   203.0      Marvel Comics          -       bad   441.0  \n",
              "4               Black   -99.0      Marvel Comics          -       bad   -99.0  \n",
              "..                ...     ...                ...        ...       ...     ...  \n",
              "729  Strawberry Blond   165.0      Marvel Comics          -      good    52.0  \n",
              "730           No Hair   304.8      Marvel Comics      white      good   -99.0  \n",
              "731             White    66.0       George Lucas      green      good    17.0  \n",
              "732             Black   170.0          DC Comics          -      good    57.0  \n",
              "733             Brown   185.0          DC Comics          -       bad    81.0  \n",
              "\n",
              "[734 rows x 11 columns]"
            ],
            "text/html": [
              "\n",
              "  <div id=\"df-1981d336-3223-4707-948b-d7d1d3b291eb\" class=\"colab-df-container\">\n",
              "    <div>\n",
              "<style scoped>\n",
              "    .dataframe tbody tr th:only-of-type {\n",
              "        vertical-align: middle;\n",
              "    }\n",
              "\n",
              "    .dataframe tbody tr th {\n",
              "        vertical-align: top;\n",
              "    }\n",
              "\n",
              "    .dataframe thead th {\n",
              "        text-align: right;\n",
              "    }\n",
              "</style>\n",
              "<table border=\"1\" class=\"dataframe\">\n",
              "  <thead>\n",
              "    <tr style=\"text-align: right;\">\n",
              "      <th></th>\n",
              "      <th>Unnamed: 0</th>\n",
              "      <th>name</th>\n",
              "      <th>Gender</th>\n",
              "      <th>Eye color</th>\n",
              "      <th>Race</th>\n",
              "      <th>Hair color</th>\n",
              "      <th>Height</th>\n",
              "      <th>Publisher</th>\n",
              "      <th>Skin color</th>\n",
              "      <th>Alignment</th>\n",
              "      <th>Weight</th>\n",
              "    </tr>\n",
              "  </thead>\n",
              "  <tbody>\n",
              "    <tr>\n",
              "      <th>0</th>\n",
              "      <td>0</td>\n",
              "      <td>A-Bomb</td>\n",
              "      <td>Male</td>\n",
              "      <td>yellow</td>\n",
              "      <td>Human</td>\n",
              "      <td>No Hair</td>\n",
              "      <td>203.0</td>\n",
              "      <td>Marvel Comics</td>\n",
              "      <td>-</td>\n",
              "      <td>good</td>\n",
              "      <td>441.0</td>\n",
              "    </tr>\n",
              "    <tr>\n",
              "      <th>1</th>\n",
              "      <td>1</td>\n",
              "      <td>Abe Sapien</td>\n",
              "      <td>Male</td>\n",
              "      <td>blue</td>\n",
              "      <td>Icthyo Sapien</td>\n",
              "      <td>No Hair</td>\n",
              "      <td>191.0</td>\n",
              "      <td>Dark Horse Comics</td>\n",
              "      <td>blue</td>\n",
              "      <td>good</td>\n",
              "      <td>65.0</td>\n",
              "    </tr>\n",
              "    <tr>\n",
              "      <th>2</th>\n",
              "      <td>2</td>\n",
              "      <td>Abin Sur</td>\n",
              "      <td>Male</td>\n",
              "      <td>blue</td>\n",
              "      <td>Ungaran</td>\n",
              "      <td>No Hair</td>\n",
              "      <td>185.0</td>\n",
              "      <td>DC Comics</td>\n",
              "      <td>red</td>\n",
              "      <td>good</td>\n",
              "      <td>90.0</td>\n",
              "    </tr>\n",
              "    <tr>\n",
              "      <th>3</th>\n",
              "      <td>3</td>\n",
              "      <td>Abomination</td>\n",
              "      <td>Male</td>\n",
              "      <td>green</td>\n",
              "      <td>Human / Radiation</td>\n",
              "      <td>No Hair</td>\n",
              "      <td>203.0</td>\n",
              "      <td>Marvel Comics</td>\n",
              "      <td>-</td>\n",
              "      <td>bad</td>\n",
              "      <td>441.0</td>\n",
              "    </tr>\n",
              "    <tr>\n",
              "      <th>4</th>\n",
              "      <td>4</td>\n",
              "      <td>Abraxas</td>\n",
              "      <td>Male</td>\n",
              "      <td>blue</td>\n",
              "      <td>Cosmic Entity</td>\n",
              "      <td>Black</td>\n",
              "      <td>-99.0</td>\n",
              "      <td>Marvel Comics</td>\n",
              "      <td>-</td>\n",
              "      <td>bad</td>\n",
              "      <td>-99.0</td>\n",
              "    </tr>\n",
              "    <tr>\n",
              "      <th>...</th>\n",
              "      <td>...</td>\n",
              "      <td>...</td>\n",
              "      <td>...</td>\n",
              "      <td>...</td>\n",
              "      <td>...</td>\n",
              "      <td>...</td>\n",
              "      <td>...</td>\n",
              "      <td>...</td>\n",
              "      <td>...</td>\n",
              "      <td>...</td>\n",
              "      <td>...</td>\n",
              "    </tr>\n",
              "    <tr>\n",
              "      <th>729</th>\n",
              "      <td>729</td>\n",
              "      <td>Yellowjacket II</td>\n",
              "      <td>Female</td>\n",
              "      <td>blue</td>\n",
              "      <td>Human</td>\n",
              "      <td>Strawberry Blond</td>\n",
              "      <td>165.0</td>\n",
              "      <td>Marvel Comics</td>\n",
              "      <td>-</td>\n",
              "      <td>good</td>\n",
              "      <td>52.0</td>\n",
              "    </tr>\n",
              "    <tr>\n",
              "      <th>730</th>\n",
              "      <td>730</td>\n",
              "      <td>Ymir</td>\n",
              "      <td>Male</td>\n",
              "      <td>white</td>\n",
              "      <td>Frost Giant</td>\n",
              "      <td>No Hair</td>\n",
              "      <td>304.8</td>\n",
              "      <td>Marvel Comics</td>\n",
              "      <td>white</td>\n",
              "      <td>good</td>\n",
              "      <td>-99.0</td>\n",
              "    </tr>\n",
              "    <tr>\n",
              "      <th>731</th>\n",
              "      <td>731</td>\n",
              "      <td>Yoda</td>\n",
              "      <td>Male</td>\n",
              "      <td>brown</td>\n",
              "      <td>Yoda's species</td>\n",
              "      <td>White</td>\n",
              "      <td>66.0</td>\n",
              "      <td>George Lucas</td>\n",
              "      <td>green</td>\n",
              "      <td>good</td>\n",
              "      <td>17.0</td>\n",
              "    </tr>\n",
              "    <tr>\n",
              "      <th>732</th>\n",
              "      <td>732</td>\n",
              "      <td>Zatanna</td>\n",
              "      <td>Female</td>\n",
              "      <td>blue</td>\n",
              "      <td>Human</td>\n",
              "      <td>Black</td>\n",
              "      <td>170.0</td>\n",
              "      <td>DC Comics</td>\n",
              "      <td>-</td>\n",
              "      <td>good</td>\n",
              "      <td>57.0</td>\n",
              "    </tr>\n",
              "    <tr>\n",
              "      <th>733</th>\n",
              "      <td>733</td>\n",
              "      <td>Zoom</td>\n",
              "      <td>Male</td>\n",
              "      <td>red</td>\n",
              "      <td>-</td>\n",
              "      <td>Brown</td>\n",
              "      <td>185.0</td>\n",
              "      <td>DC Comics</td>\n",
              "      <td>-</td>\n",
              "      <td>bad</td>\n",
              "      <td>81.0</td>\n",
              "    </tr>\n",
              "  </tbody>\n",
              "</table>\n",
              "<p>734 rows × 11 columns</p>\n",
              "</div>\n",
              "    <div class=\"colab-df-buttons\">\n",
              "\n",
              "  <div class=\"colab-df-container\">\n",
              "    <button class=\"colab-df-convert\" onclick=\"convertToInteractive('df-1981d336-3223-4707-948b-d7d1d3b291eb')\"\n",
              "            title=\"Convert this dataframe to an interactive table.\"\n",
              "            style=\"display:none;\">\n",
              "\n",
              "  <svg xmlns=\"http://www.w3.org/2000/svg\" height=\"24px\" viewBox=\"0 -960 960 960\">\n",
              "    <path d=\"M120-120v-720h720v720H120Zm60-500h600v-160H180v160Zm220 220h160v-160H400v160Zm0 220h160v-160H400v160ZM180-400h160v-160H180v160Zm440 0h160v-160H620v160ZM180-180h160v-160H180v160Zm440 0h160v-160H620v160Z\"/>\n",
              "  </svg>\n",
              "    </button>\n",
              "\n",
              "  <style>\n",
              "    .colab-df-container {\n",
              "      display:flex;\n",
              "      gap: 12px;\n",
              "    }\n",
              "\n",
              "    .colab-df-convert {\n",
              "      background-color: #E8F0FE;\n",
              "      border: none;\n",
              "      border-radius: 50%;\n",
              "      cursor: pointer;\n",
              "      display: none;\n",
              "      fill: #1967D2;\n",
              "      height: 32px;\n",
              "      padding: 0 0 0 0;\n",
              "      width: 32px;\n",
              "    }\n",
              "\n",
              "    .colab-df-convert:hover {\n",
              "      background-color: #E2EBFA;\n",
              "      box-shadow: 0px 1px 2px rgba(60, 64, 67, 0.3), 0px 1px 3px 1px rgba(60, 64, 67, 0.15);\n",
              "      fill: #174EA6;\n",
              "    }\n",
              "\n",
              "    .colab-df-buttons div {\n",
              "      margin-bottom: 4px;\n",
              "    }\n",
              "\n",
              "    [theme=dark] .colab-df-convert {\n",
              "      background-color: #3B4455;\n",
              "      fill: #D2E3FC;\n",
              "    }\n",
              "\n",
              "    [theme=dark] .colab-df-convert:hover {\n",
              "      background-color: #434B5C;\n",
              "      box-shadow: 0px 1px 3px 1px rgba(0, 0, 0, 0.15);\n",
              "      filter: drop-shadow(0px 1px 2px rgba(0, 0, 0, 0.3));\n",
              "      fill: #FFFFFF;\n",
              "    }\n",
              "  </style>\n",
              "\n",
              "    <script>\n",
              "      const buttonEl =\n",
              "        document.querySelector('#df-1981d336-3223-4707-948b-d7d1d3b291eb button.colab-df-convert');\n",
              "      buttonEl.style.display =\n",
              "        google.colab.kernel.accessAllowed ? 'block' : 'none';\n",
              "\n",
              "      async function convertToInteractive(key) {\n",
              "        const element = document.querySelector('#df-1981d336-3223-4707-948b-d7d1d3b291eb');\n",
              "        const dataTable =\n",
              "          await google.colab.kernel.invokeFunction('convertToInteractive',\n",
              "                                                    [key], {});\n",
              "        if (!dataTable) return;\n",
              "\n",
              "        const docLinkHtml = 'Like what you see? Visit the ' +\n",
              "          '<a target=\"_blank\" href=https://colab.research.google.com/notebooks/data_table.ipynb>data table notebook</a>'\n",
              "          + ' to learn more about interactive tables.';\n",
              "        element.innerHTML = '';\n",
              "        dataTable['output_type'] = 'display_data';\n",
              "        await google.colab.output.renderOutput(dataTable, element);\n",
              "        const docLink = document.createElement('div');\n",
              "        docLink.innerHTML = docLinkHtml;\n",
              "        element.appendChild(docLink);\n",
              "      }\n",
              "    </script>\n",
              "  </div>\n",
              "\n",
              "\n",
              "<div id=\"df-9f7e8c99-35cf-4819-9d49-69e717399a01\">\n",
              "  <button class=\"colab-df-quickchart\" onclick=\"quickchart('df-9f7e8c99-35cf-4819-9d49-69e717399a01')\"\n",
              "            title=\"Suggest charts\"\n",
              "            style=\"display:none;\">\n",
              "\n",
              "<svg xmlns=\"http://www.w3.org/2000/svg\" height=\"24px\"viewBox=\"0 0 24 24\"\n",
              "     width=\"24px\">\n",
              "    <g>\n",
              "        <path d=\"M19 3H5c-1.1 0-2 .9-2 2v14c0 1.1.9 2 2 2h14c1.1 0 2-.9 2-2V5c0-1.1-.9-2-2-2zM9 17H7v-7h2v7zm4 0h-2V7h2v10zm4 0h-2v-4h2v4z\"/>\n",
              "    </g>\n",
              "</svg>\n",
              "  </button>\n",
              "\n",
              "<style>\n",
              "  .colab-df-quickchart {\n",
              "      --bg-color: #E8F0FE;\n",
              "      --fill-color: #1967D2;\n",
              "      --hover-bg-color: #E2EBFA;\n",
              "      --hover-fill-color: #174EA6;\n",
              "      --disabled-fill-color: #AAA;\n",
              "      --disabled-bg-color: #DDD;\n",
              "  }\n",
              "\n",
              "  [theme=dark] .colab-df-quickchart {\n",
              "      --bg-color: #3B4455;\n",
              "      --fill-color: #D2E3FC;\n",
              "      --hover-bg-color: #434B5C;\n",
              "      --hover-fill-color: #FFFFFF;\n",
              "      --disabled-bg-color: #3B4455;\n",
              "      --disabled-fill-color: #666;\n",
              "  }\n",
              "\n",
              "  .colab-df-quickchart {\n",
              "    background-color: var(--bg-color);\n",
              "    border: none;\n",
              "    border-radius: 50%;\n",
              "    cursor: pointer;\n",
              "    display: none;\n",
              "    fill: var(--fill-color);\n",
              "    height: 32px;\n",
              "    padding: 0;\n",
              "    width: 32px;\n",
              "  }\n",
              "\n",
              "  .colab-df-quickchart:hover {\n",
              "    background-color: var(--hover-bg-color);\n",
              "    box-shadow: 0 1px 2px rgba(60, 64, 67, 0.3), 0 1px 3px 1px rgba(60, 64, 67, 0.15);\n",
              "    fill: var(--button-hover-fill-color);\n",
              "  }\n",
              "\n",
              "  .colab-df-quickchart-complete:disabled,\n",
              "  .colab-df-quickchart-complete:disabled:hover {\n",
              "    background-color: var(--disabled-bg-color);\n",
              "    fill: var(--disabled-fill-color);\n",
              "    box-shadow: none;\n",
              "  }\n",
              "\n",
              "  .colab-df-spinner {\n",
              "    border: 2px solid var(--fill-color);\n",
              "    border-color: transparent;\n",
              "    border-bottom-color: var(--fill-color);\n",
              "    animation:\n",
              "      spin 1s steps(1) infinite;\n",
              "  }\n",
              "\n",
              "  @keyframes spin {\n",
              "    0% {\n",
              "      border-color: transparent;\n",
              "      border-bottom-color: var(--fill-color);\n",
              "      border-left-color: var(--fill-color);\n",
              "    }\n",
              "    20% {\n",
              "      border-color: transparent;\n",
              "      border-left-color: var(--fill-color);\n",
              "      border-top-color: var(--fill-color);\n",
              "    }\n",
              "    30% {\n",
              "      border-color: transparent;\n",
              "      border-left-color: var(--fill-color);\n",
              "      border-top-color: var(--fill-color);\n",
              "      border-right-color: var(--fill-color);\n",
              "    }\n",
              "    40% {\n",
              "      border-color: transparent;\n",
              "      border-right-color: var(--fill-color);\n",
              "      border-top-color: var(--fill-color);\n",
              "    }\n",
              "    60% {\n",
              "      border-color: transparent;\n",
              "      border-right-color: var(--fill-color);\n",
              "    }\n",
              "    80% {\n",
              "      border-color: transparent;\n",
              "      border-right-color: var(--fill-color);\n",
              "      border-bottom-color: var(--fill-color);\n",
              "    }\n",
              "    90% {\n",
              "      border-color: transparent;\n",
              "      border-bottom-color: var(--fill-color);\n",
              "    }\n",
              "  }\n",
              "</style>\n",
              "\n",
              "  <script>\n",
              "    async function quickchart(key) {\n",
              "      const quickchartButtonEl =\n",
              "        document.querySelector('#' + key + ' button');\n",
              "      quickchartButtonEl.disabled = true;  // To prevent multiple clicks.\n",
              "      quickchartButtonEl.classList.add('colab-df-spinner');\n",
              "      try {\n",
              "        const charts = await google.colab.kernel.invokeFunction(\n",
              "            'suggestCharts', [key], {});\n",
              "      } catch (error) {\n",
              "        console.error('Error during call to suggestCharts:', error);\n",
              "      }\n",
              "      quickchartButtonEl.classList.remove('colab-df-spinner');\n",
              "      quickchartButtonEl.classList.add('colab-df-quickchart-complete');\n",
              "    }\n",
              "    (() => {\n",
              "      let quickchartButtonEl =\n",
              "        document.querySelector('#df-9f7e8c99-35cf-4819-9d49-69e717399a01 button');\n",
              "      quickchartButtonEl.style.display =\n",
              "        google.colab.kernel.accessAllowed ? 'block' : 'none';\n",
              "    })();\n",
              "  </script>\n",
              "</div>\n",
              "    </div>\n",
              "  </div>\n"
            ],
            "application/vnd.google.colaboratory.intrinsic+json": {
              "type": "dataframe",
              "variable_name": "df",
              "summary": "{\n  \"name\": \"df\",\n  \"rows\": 734,\n  \"fields\": [\n    {\n      \"column\": \"Unnamed: 0\",\n      \"properties\": {\n        \"dtype\": \"number\",\n        \"std\": 212,\n        \"min\": 0,\n        \"max\": 733,\n        \"num_unique_values\": 734,\n        \"samples\": [\n          559,\n          33,\n          275\n        ],\n        \"semantic_type\": \"\",\n        \"description\": \"\"\n      }\n    },\n    {\n      \"column\": \"name\",\n      \"properties\": {\n        \"dtype\": \"string\",\n        \"num_unique_values\": 715,\n        \"samples\": [\n          \"Bomb Queen\",\n          \"Sebastian Shaw\",\n          \"Arclight\"\n        ],\n        \"semantic_type\": \"\",\n        \"description\": \"\"\n      }\n    },\n    {\n      \"column\": \"Gender\",\n      \"properties\": {\n        \"dtype\": \"category\",\n        \"num_unique_values\": 3,\n        \"samples\": [\n          \"Male\",\n          \"Female\",\n          \"-\"\n        ],\n        \"semantic_type\": \"\",\n        \"description\": \"\"\n      }\n    },\n    {\n      \"column\": \"Eye color\",\n      \"properties\": {\n        \"dtype\": \"category\",\n        \"num_unique_values\": 23,\n        \"samples\": [\n          \"blue / white\",\n          \"black\",\n          \"yellow\"\n        ],\n        \"semantic_type\": \"\",\n        \"description\": \"\"\n      }\n    },\n    {\n      \"column\": \"Race\",\n      \"properties\": {\n        \"dtype\": \"category\",\n        \"num_unique_values\": 62,\n        \"samples\": [\n          \"Yautja\",\n          \"Human-Vulcan\",\n          \"Human\"\n        ],\n        \"semantic_type\": \"\",\n        \"description\": \"\"\n      }\n    },\n    {\n      \"column\": \"Hair color\",\n      \"properties\": {\n        \"dtype\": \"category\",\n        \"num_unique_values\": 30,\n        \"samples\": [\n          \"Indigo\",\n          \"Magenta\",\n          \"Yellow\"\n        ],\n        \"semantic_type\": \"\",\n        \"description\": \"\"\n      }\n    },\n    {\n      \"column\": \"Height\",\n      \"properties\": {\n        \"dtype\": \"number\",\n        \"std\": 139.62454255007276,\n        \"min\": -99.0,\n        \"max\": 975.0,\n        \"num_unique_values\": 54,\n        \"samples\": [\n          198.0,\n          15.2,\n          279.0\n        ],\n        \"semantic_type\": \"\",\n        \"description\": \"\"\n      }\n    },\n    {\n      \"column\": \"Publisher\",\n      \"properties\": {\n        \"dtype\": \"category\",\n        \"num_unique_values\": 24,\n        \"samples\": [\n          \"Hanna-Barbera\",\n          \"IDW Publishing\",\n          \"Marvel Comics\"\n        ],\n        \"semantic_type\": \"\",\n        \"description\": \"\"\n      }\n    },\n    {\n      \"column\": \"Skin color\",\n      \"properties\": {\n        \"dtype\": \"category\",\n        \"num_unique_values\": 17,\n        \"samples\": [\n          \"-\",\n          \"blue\",\n          \"gold\"\n        ],\n        \"semantic_type\": \"\",\n        \"description\": \"\"\n      }\n    },\n    {\n      \"column\": \"Alignment\",\n      \"properties\": {\n        \"dtype\": \"category\",\n        \"num_unique_values\": 4,\n        \"samples\": [\n          \"bad\",\n          \"neutral\",\n          \"good\"\n        ],\n        \"semantic_type\": \"\",\n        \"description\": \"\"\n      }\n    },\n    {\n      \"column\": \"Weight\",\n      \"properties\": {\n        \"dtype\": \"number\",\n        \"std\": 130.82373271995198,\n        \"min\": -99.0,\n        \"max\": 900.0,\n        \"num_unique_values\": 135,\n        \"samples\": [\n          248.0,\n          89.0,\n          87.0\n        ],\n        \"semantic_type\": \"\",\n        \"description\": \"\"\n      }\n    }\n  ]\n}"
            }
          },
          "metadata": {},
          "execution_count": 101
        }
      ]
    },
    {
      "cell_type": "markdown",
      "source": [
        "## **Describe Data**"
      ],
      "metadata": {
        "id": "maKm2drVH7Cf"
      }
    },
    {
      "cell_type": "markdown",
      "source": [
        "### Informasi Dasar"
      ],
      "metadata": {
        "id": "RgQrNKBsH9b0"
      }
    },
    {
      "cell_type": "code",
      "source": [
        "print(\"Jumlah baris :\", df.shape[0])\n",
        "print(\"Jumlah kolom :\", df.shape[1])"
      ],
      "metadata": {
        "colab": {
          "base_uri": "https://localhost:8080/"
        },
        "id": "EPetzpEXIFzc",
        "outputId": "1cfeb9a4-6383-4e2a-a907-3c492c76e199"
      },
      "execution_count": null,
      "outputs": [
        {
          "output_type": "stream",
          "name": "stdout",
          "text": [
            "Jumlah baris : 734\n",
            "Jumlah kolom : 11\n"
          ]
        }
      ]
    },
    {
      "cell_type": "markdown",
      "source": [
        "Jadi dapat dilihat dari dataset Super Heroes Dataset bahwasannya jumlah baris berjumlah 734 dan jumlah kolom berjumlah 11."
      ],
      "metadata": {
        "id": "w2-EKe0MIHck"
      }
    },
    {
      "cell_type": "markdown",
      "source": [
        "### Informasi Lanjutan"
      ],
      "metadata": {
        "id": "VOD-S7N5IJxj"
      }
    },
    {
      "cell_type": "code",
      "source": [
        "df.info()"
      ],
      "metadata": {
        "colab": {
          "base_uri": "https://localhost:8080/"
        },
        "id": "Rn11R0tHIOSM",
        "outputId": "c4171a43-d851-4cda-fe47-b041303f6433"
      },
      "execution_count": null,
      "outputs": [
        {
          "output_type": "stream",
          "name": "stdout",
          "text": [
            "<class 'pandas.core.frame.DataFrame'>\n",
            "RangeIndex: 734 entries, 0 to 733\n",
            "Data columns (total 11 columns):\n",
            " #   Column      Non-Null Count  Dtype  \n",
            "---  ------      --------------  -----  \n",
            " 0   Unnamed: 0  734 non-null    int64  \n",
            " 1   name        734 non-null    object \n",
            " 2   Gender      734 non-null    object \n",
            " 3   Eye color   734 non-null    object \n",
            " 4   Race        734 non-null    object \n",
            " 5   Hair color  734 non-null    object \n",
            " 6   Height      734 non-null    float64\n",
            " 7   Publisher   719 non-null    object \n",
            " 8   Skin color  734 non-null    object \n",
            " 9   Alignment   734 non-null    object \n",
            " 10  Weight      732 non-null    float64\n",
            "dtypes: float64(2), int64(1), object(8)\n",
            "memory usage: 63.2+ KB\n"
          ]
        }
      ]
    },
    {
      "cell_type": "markdown",
      "source": [
        "KOLOM\n",
        "1. name = Nama karakter superhero, jumlah = 734, tipe data = object\n",
        "2. Gender = Jenis kelamin karakter (misalnya Male, Female), jumlah = 734, tipe data = object\n",
        "3. Eye color = Warna mata karakter, jumlah = 734, tipe data = object\n",
        "4. Race = Ras karakter, jumlah = 734, tipe data = object\n",
        "5. Hair color = Warna rambut karakter, jumlah = 734, tipe data = object\n",
        "6. Height = Tinggi karakter dalam centimeter, jumlah = 734, tipe data = float\n",
        "7. Publisher = Penerbit karakter (misalnya Marvel Comics, DC Comics), jumlah = 719, tipe data = object\n",
        "8. Skin color = Warna kulit karakter, jumlah = 734, tipe data = object\n",
        "9. Alignment = Orientasi karakter (misalnya good, bad), jumlah = 734, tipe data = object\n",
        "10. Weight = Berat karakter dalam kilogram, jumlah = 732, tipe data = float"
      ],
      "metadata": {
        "id": "JDBpM5DXIOyW"
      }
    },
    {
      "cell_type": "markdown",
      "source": [
        "#### Informasi Statistik Deskriptif"
      ],
      "metadata": {
        "id": "n5jFHZSkIPSz"
      }
    },
    {
      "cell_type": "code",
      "source": [
        "df.describe()"
      ],
      "metadata": {
        "colab": {
          "base_uri": "https://localhost:8080/",
          "height": 300
        },
        "id": "ohkcQ1FPIUud",
        "outputId": "423a9c26-4c24-4338-e271-b6e17a7afdbc"
      },
      "execution_count": null,
      "outputs": [
        {
          "output_type": "execute_result",
          "data": {
            "text/plain": [
              "       Unnamed: 0      Height      Weight\n",
              "count  734.000000  734.000000  732.000000\n",
              "mean   366.500000  102.254087   43.855191\n",
              "std    212.031837  139.624543  130.823733\n",
              "min      0.000000  -99.000000  -99.000000\n",
              "25%    183.250000  -99.000000  -99.000000\n",
              "50%    366.500000  175.000000   62.000000\n",
              "75%    549.750000  185.000000   90.000000\n",
              "max    733.000000  975.000000  900.000000"
            ],
            "text/html": [
              "\n",
              "  <div id=\"df-3de23c2c-ea1e-47f4-89ea-182c66b24534\" class=\"colab-df-container\">\n",
              "    <div>\n",
              "<style scoped>\n",
              "    .dataframe tbody tr th:only-of-type {\n",
              "        vertical-align: middle;\n",
              "    }\n",
              "\n",
              "    .dataframe tbody tr th {\n",
              "        vertical-align: top;\n",
              "    }\n",
              "\n",
              "    .dataframe thead th {\n",
              "        text-align: right;\n",
              "    }\n",
              "</style>\n",
              "<table border=\"1\" class=\"dataframe\">\n",
              "  <thead>\n",
              "    <tr style=\"text-align: right;\">\n",
              "      <th></th>\n",
              "      <th>Unnamed: 0</th>\n",
              "      <th>Height</th>\n",
              "      <th>Weight</th>\n",
              "    </tr>\n",
              "  </thead>\n",
              "  <tbody>\n",
              "    <tr>\n",
              "      <th>count</th>\n",
              "      <td>734.000000</td>\n",
              "      <td>734.000000</td>\n",
              "      <td>732.000000</td>\n",
              "    </tr>\n",
              "    <tr>\n",
              "      <th>mean</th>\n",
              "      <td>366.500000</td>\n",
              "      <td>102.254087</td>\n",
              "      <td>43.855191</td>\n",
              "    </tr>\n",
              "    <tr>\n",
              "      <th>std</th>\n",
              "      <td>212.031837</td>\n",
              "      <td>139.624543</td>\n",
              "      <td>130.823733</td>\n",
              "    </tr>\n",
              "    <tr>\n",
              "      <th>min</th>\n",
              "      <td>0.000000</td>\n",
              "      <td>-99.000000</td>\n",
              "      <td>-99.000000</td>\n",
              "    </tr>\n",
              "    <tr>\n",
              "      <th>25%</th>\n",
              "      <td>183.250000</td>\n",
              "      <td>-99.000000</td>\n",
              "      <td>-99.000000</td>\n",
              "    </tr>\n",
              "    <tr>\n",
              "      <th>50%</th>\n",
              "      <td>366.500000</td>\n",
              "      <td>175.000000</td>\n",
              "      <td>62.000000</td>\n",
              "    </tr>\n",
              "    <tr>\n",
              "      <th>75%</th>\n",
              "      <td>549.750000</td>\n",
              "      <td>185.000000</td>\n",
              "      <td>90.000000</td>\n",
              "    </tr>\n",
              "    <tr>\n",
              "      <th>max</th>\n",
              "      <td>733.000000</td>\n",
              "      <td>975.000000</td>\n",
              "      <td>900.000000</td>\n",
              "    </tr>\n",
              "  </tbody>\n",
              "</table>\n",
              "</div>\n",
              "    <div class=\"colab-df-buttons\">\n",
              "\n",
              "  <div class=\"colab-df-container\">\n",
              "    <button class=\"colab-df-convert\" onclick=\"convertToInteractive('df-3de23c2c-ea1e-47f4-89ea-182c66b24534')\"\n",
              "            title=\"Convert this dataframe to an interactive table.\"\n",
              "            style=\"display:none;\">\n",
              "\n",
              "  <svg xmlns=\"http://www.w3.org/2000/svg\" height=\"24px\" viewBox=\"0 -960 960 960\">\n",
              "    <path d=\"M120-120v-720h720v720H120Zm60-500h600v-160H180v160Zm220 220h160v-160H400v160Zm0 220h160v-160H400v160ZM180-400h160v-160H180v160Zm440 0h160v-160H620v160ZM180-180h160v-160H180v160Zm440 0h160v-160H620v160Z\"/>\n",
              "  </svg>\n",
              "    </button>\n",
              "\n",
              "  <style>\n",
              "    .colab-df-container {\n",
              "      display:flex;\n",
              "      gap: 12px;\n",
              "    }\n",
              "\n",
              "    .colab-df-convert {\n",
              "      background-color: #E8F0FE;\n",
              "      border: none;\n",
              "      border-radius: 50%;\n",
              "      cursor: pointer;\n",
              "      display: none;\n",
              "      fill: #1967D2;\n",
              "      height: 32px;\n",
              "      padding: 0 0 0 0;\n",
              "      width: 32px;\n",
              "    }\n",
              "\n",
              "    .colab-df-convert:hover {\n",
              "      background-color: #E2EBFA;\n",
              "      box-shadow: 0px 1px 2px rgba(60, 64, 67, 0.3), 0px 1px 3px 1px rgba(60, 64, 67, 0.15);\n",
              "      fill: #174EA6;\n",
              "    }\n",
              "\n",
              "    .colab-df-buttons div {\n",
              "      margin-bottom: 4px;\n",
              "    }\n",
              "\n",
              "    [theme=dark] .colab-df-convert {\n",
              "      background-color: #3B4455;\n",
              "      fill: #D2E3FC;\n",
              "    }\n",
              "\n",
              "    [theme=dark] .colab-df-convert:hover {\n",
              "      background-color: #434B5C;\n",
              "      box-shadow: 0px 1px 3px 1px rgba(0, 0, 0, 0.15);\n",
              "      filter: drop-shadow(0px 1px 2px rgba(0, 0, 0, 0.3));\n",
              "      fill: #FFFFFF;\n",
              "    }\n",
              "  </style>\n",
              "\n",
              "    <script>\n",
              "      const buttonEl =\n",
              "        document.querySelector('#df-3de23c2c-ea1e-47f4-89ea-182c66b24534 button.colab-df-convert');\n",
              "      buttonEl.style.display =\n",
              "        google.colab.kernel.accessAllowed ? 'block' : 'none';\n",
              "\n",
              "      async function convertToInteractive(key) {\n",
              "        const element = document.querySelector('#df-3de23c2c-ea1e-47f4-89ea-182c66b24534');\n",
              "        const dataTable =\n",
              "          await google.colab.kernel.invokeFunction('convertToInteractive',\n",
              "                                                    [key], {});\n",
              "        if (!dataTable) return;\n",
              "\n",
              "        const docLinkHtml = 'Like what you see? Visit the ' +\n",
              "          '<a target=\"_blank\" href=https://colab.research.google.com/notebooks/data_table.ipynb>data table notebook</a>'\n",
              "          + ' to learn more about interactive tables.';\n",
              "        element.innerHTML = '';\n",
              "        dataTable['output_type'] = 'display_data';\n",
              "        await google.colab.output.renderOutput(dataTable, element);\n",
              "        const docLink = document.createElement('div');\n",
              "        docLink.innerHTML = docLinkHtml;\n",
              "        element.appendChild(docLink);\n",
              "      }\n",
              "    </script>\n",
              "  </div>\n",
              "\n",
              "\n",
              "<div id=\"df-3688da95-830c-41a4-8533-69969588abd6\">\n",
              "  <button class=\"colab-df-quickchart\" onclick=\"quickchart('df-3688da95-830c-41a4-8533-69969588abd6')\"\n",
              "            title=\"Suggest charts\"\n",
              "            style=\"display:none;\">\n",
              "\n",
              "<svg xmlns=\"http://www.w3.org/2000/svg\" height=\"24px\"viewBox=\"0 0 24 24\"\n",
              "     width=\"24px\">\n",
              "    <g>\n",
              "        <path d=\"M19 3H5c-1.1 0-2 .9-2 2v14c0 1.1.9 2 2 2h14c1.1 0 2-.9 2-2V5c0-1.1-.9-2-2-2zM9 17H7v-7h2v7zm4 0h-2V7h2v10zm4 0h-2v-4h2v4z\"/>\n",
              "    </g>\n",
              "</svg>\n",
              "  </button>\n",
              "\n",
              "<style>\n",
              "  .colab-df-quickchart {\n",
              "      --bg-color: #E8F0FE;\n",
              "      --fill-color: #1967D2;\n",
              "      --hover-bg-color: #E2EBFA;\n",
              "      --hover-fill-color: #174EA6;\n",
              "      --disabled-fill-color: #AAA;\n",
              "      --disabled-bg-color: #DDD;\n",
              "  }\n",
              "\n",
              "  [theme=dark] .colab-df-quickchart {\n",
              "      --bg-color: #3B4455;\n",
              "      --fill-color: #D2E3FC;\n",
              "      --hover-bg-color: #434B5C;\n",
              "      --hover-fill-color: #FFFFFF;\n",
              "      --disabled-bg-color: #3B4455;\n",
              "      --disabled-fill-color: #666;\n",
              "  }\n",
              "\n",
              "  .colab-df-quickchart {\n",
              "    background-color: var(--bg-color);\n",
              "    border: none;\n",
              "    border-radius: 50%;\n",
              "    cursor: pointer;\n",
              "    display: none;\n",
              "    fill: var(--fill-color);\n",
              "    height: 32px;\n",
              "    padding: 0;\n",
              "    width: 32px;\n",
              "  }\n",
              "\n",
              "  .colab-df-quickchart:hover {\n",
              "    background-color: var(--hover-bg-color);\n",
              "    box-shadow: 0 1px 2px rgba(60, 64, 67, 0.3), 0 1px 3px 1px rgba(60, 64, 67, 0.15);\n",
              "    fill: var(--button-hover-fill-color);\n",
              "  }\n",
              "\n",
              "  .colab-df-quickchart-complete:disabled,\n",
              "  .colab-df-quickchart-complete:disabled:hover {\n",
              "    background-color: var(--disabled-bg-color);\n",
              "    fill: var(--disabled-fill-color);\n",
              "    box-shadow: none;\n",
              "  }\n",
              "\n",
              "  .colab-df-spinner {\n",
              "    border: 2px solid var(--fill-color);\n",
              "    border-color: transparent;\n",
              "    border-bottom-color: var(--fill-color);\n",
              "    animation:\n",
              "      spin 1s steps(1) infinite;\n",
              "  }\n",
              "\n",
              "  @keyframes spin {\n",
              "    0% {\n",
              "      border-color: transparent;\n",
              "      border-bottom-color: var(--fill-color);\n",
              "      border-left-color: var(--fill-color);\n",
              "    }\n",
              "    20% {\n",
              "      border-color: transparent;\n",
              "      border-left-color: var(--fill-color);\n",
              "      border-top-color: var(--fill-color);\n",
              "    }\n",
              "    30% {\n",
              "      border-color: transparent;\n",
              "      border-left-color: var(--fill-color);\n",
              "      border-top-color: var(--fill-color);\n",
              "      border-right-color: var(--fill-color);\n",
              "    }\n",
              "    40% {\n",
              "      border-color: transparent;\n",
              "      border-right-color: var(--fill-color);\n",
              "      border-top-color: var(--fill-color);\n",
              "    }\n",
              "    60% {\n",
              "      border-color: transparent;\n",
              "      border-right-color: var(--fill-color);\n",
              "    }\n",
              "    80% {\n",
              "      border-color: transparent;\n",
              "      border-right-color: var(--fill-color);\n",
              "      border-bottom-color: var(--fill-color);\n",
              "    }\n",
              "    90% {\n",
              "      border-color: transparent;\n",
              "      border-bottom-color: var(--fill-color);\n",
              "    }\n",
              "  }\n",
              "</style>\n",
              "\n",
              "  <script>\n",
              "    async function quickchart(key) {\n",
              "      const quickchartButtonEl =\n",
              "        document.querySelector('#' + key + ' button');\n",
              "      quickchartButtonEl.disabled = true;  // To prevent multiple clicks.\n",
              "      quickchartButtonEl.classList.add('colab-df-spinner');\n",
              "      try {\n",
              "        const charts = await google.colab.kernel.invokeFunction(\n",
              "            'suggestCharts', [key], {});\n",
              "      } catch (error) {\n",
              "        console.error('Error during call to suggestCharts:', error);\n",
              "      }\n",
              "      quickchartButtonEl.classList.remove('colab-df-spinner');\n",
              "      quickchartButtonEl.classList.add('colab-df-quickchart-complete');\n",
              "    }\n",
              "    (() => {\n",
              "      let quickchartButtonEl =\n",
              "        document.querySelector('#df-3688da95-830c-41a4-8533-69969588abd6 button');\n",
              "      quickchartButtonEl.style.display =\n",
              "        google.colab.kernel.accessAllowed ? 'block' : 'none';\n",
              "    })();\n",
              "  </script>\n",
              "</div>\n",
              "    </div>\n",
              "  </div>\n"
            ],
            "application/vnd.google.colaboratory.intrinsic+json": {
              "type": "dataframe",
              "summary": "{\n  \"name\": \"df\",\n  \"rows\": 8,\n  \"fields\": [\n    {\n      \"column\": \"Unnamed: 0\",\n      \"properties\": {\n        \"dtype\": \"number\",\n        \"std\": 264.31838697449626,\n        \"min\": 0.0,\n        \"max\": 734.0,\n        \"num_unique_values\": 7,\n        \"samples\": [\n          734.0,\n          366.5,\n          549.75\n        ],\n        \"semantic_type\": \"\",\n        \"description\": \"\"\n      }\n    },\n    {\n      \"column\": \"Height\",\n      \"properties\": {\n        \"dtype\": \"number\",\n        \"std\": 386.51407260034273,\n        \"min\": -99.0,\n        \"max\": 975.0,\n        \"num_unique_values\": 7,\n        \"samples\": [\n          734.0,\n          102.25408719346049,\n          185.0\n        ],\n        \"semantic_type\": \"\",\n        \"description\": \"\"\n      }\n    },\n    {\n      \"column\": \"Weight\",\n      \"properties\": {\n        \"dtype\": \"number\",\n        \"std\": 379.64444694551275,\n        \"min\": -99.0,\n        \"max\": 900.0,\n        \"num_unique_values\": 7,\n        \"samples\": [\n          732.0,\n          43.8551912568306,\n          90.0\n        ],\n        \"semantic_type\": \"\",\n        \"description\": \"\"\n      }\n    }\n  ]\n}"
            }
          },
          "metadata": {},
          "execution_count": 104
        }
      ]
    },
    {
      "cell_type": "markdown",
      "source": [
        "Height : Tinggi karakter dalam centimeter\n",
        "1. Count : Jumlah dalam kolom berjumlah 734.000000\n",
        "2. Mean : Rata-rata dari tinggi karakter berjumlah 102.254087\n",
        "3. Std : Standar dari tinggi karakter berjumlah 139.624543\n",
        "4. Min : Nilai minimum dari tinggi karakter berjumlah -99.000000\n",
        "5. 25% : Kuartil pertama dari tinggi karakter berjumlah -99.000000\n",
        "6. 50% : Kuartil kedua (Median) dari tinggi karakter berjumlah 175.000000\n",
        "7. 75% : Kuartil ketiga dari tinggi karakter berjumlah 185.000000\n",
        "8. Max : Nilai maksimum dari tinggi karakter berjumlah 975.000000\n",
        "\n",
        "Weight : Berat karakter dalam kilogram\n",
        "1. Count : Jumlah dalam kolom berjumlah 732.000000\n",
        "2. Mean : Rata-rata dari berat karakter berjumlah 43.855191\n",
        "3. Std : Standar dari berat karakter berjumlah 130.823733\n",
        "4. Min : Nilai minimum dari berat karakter berjumlah -99.000000\n",
        "5. 25% : Kuartil pertama dari berat karakter berjumlah -99.000000\n",
        "6. 50% : Kuartil kedua (Median) dari berat karakter berjumlah 62.000000\n",
        "7. 75% : Kuartil ketiga dari berat karakter berjumlah 90.000000\n",
        "8. Max : Nilai maksimum dari berat karakter berjumlah 900.000000"
      ],
      "metadata": {
        "id": "8qe11YP5IVM7"
      }
    },
    {
      "cell_type": "markdown",
      "source": [
        "## **Exploratory Data Analysis**"
      ],
      "metadata": {
        "id": "1DJFJ7p2IVot"
      }
    },
    {
      "cell_type": "code",
      "source": [
        "plt.figure(figsize=(10, 5))\n",
        "sns.countplot(data=df, x='Gender')\n",
        "plt.title('Distribusi Gender Superhero')\n",
        "plt.xlabel('Gender')\n",
        "plt.ylabel('Jumlah')\n",
        "plt.show()"
      ],
      "metadata": {
        "colab": {
          "base_uri": "https://localhost:8080/",
          "height": 487
        },
        "id": "FQEMhsx8mIhy",
        "outputId": "53c3ea32-04b9-4276-9fa8-3d5986b85be0"
      },
      "execution_count": null,
      "outputs": [
        {
          "output_type": "display_data",
          "data": {
            "text/plain": [
              "<Figure size 1000x500 with 1 Axes>"
            ],
            "image/png": "[encoded data removed]"
          },
          "metadata": {}
        }
      ]
    },
    {
      "cell_type": "markdown",
      "source": [
        "Dari plot distribusi gender di atas, kita dapat melihat bahwa jumlah karakter superhero pria (Male) lebih dominan daripada jumlah karakter superhero wanita (Female)"
      ],
      "metadata": {
        "id": "geVd9pdzIf57"
      }
    },
    {
      "cell_type": "code",
      "source": [
        "plt.figure(figsize=(10, 5))\n",
        "sns.histplot(df['Height'].dropna(), bins=10, kde=True)\n",
        "plt.title('Distribusi Tinggi Superhero')\n",
        "plt.xlabel('Tinggi (cm)')\n",
        "plt.ylabel('Frekuensi')\n",
        "plt.show()"
      ],
      "metadata": {
        "colab": {
          "base_uri": "https://localhost:8080/",
          "height": 487
        },
        "id": "wPBy9k0Lr04C",
        "outputId": "e0024439-1858-4a28-ec27-2aeb98596fec"
      },
      "execution_count": null,
      "outputs": [
        {
          "output_type": "display_data",
          "data": {
            "text/plain": [
              "<Figure size 1000x500 with 1 Axes>"
            ],
            "image/png": "[encoded data removed]"
          },
          "metadata": {}
        }
      ]
    },
    {
      "cell_type": "markdown",
      "source": [
        "Dari plot histogram distribusi tinggi superhero, kita bisa melihat bahwa sebagian besar superhero memiliki tinggi sekitar 175-200 cm"
      ],
      "metadata": {
        "id": "kU8G-QiQIgY8"
      }
    },
    {
      "cell_type": "code",
      "source": [
        "plt.figure(figsize=(10, 5))\n",
        "sns.histplot(df['Weight'].dropna(), bins=10, kde=True)\n",
        "plt.title('Distribusi Berat Superhero')\n",
        "plt.xlabel('Berat (kg)')\n",
        "plt.ylabel('Frekuensi')\n",
        "plt.show()"
      ],
      "metadata": {
        "colab": {
          "base_uri": "https://localhost:8080/",
          "height": 487
        },
        "id": "QHpu5DrOtiJm",
        "outputId": "5eb66f51-039e-4d45-ccd9-27eacf1e8a70"
      },
      "execution_count": null,
      "outputs": [
        {
          "output_type": "display_data",
          "data": {
            "text/plain": [
              "<Figure size 1000x500 with 1 Axes>"
            ],
            "image/png": "[encoded data removed]"
          },
          "metadata": {}
        }
      ]
    },
    {
      "cell_type": "markdown",
      "source": [
        "Dari plot histogram distribusi berat superhero, kita bisa melihat bahwa sebagian besar superhero memiliki berat sekitar 50-100 kg"
      ],
      "metadata": {
        "id": "vPW3B0fltxiw"
      }
    },
    {
      "cell_type": "code",
      "source": [
        "plt.figure(figsize=(10, 5))\n",
        "sns.scatterplot(data=df, x='Height', y='Weight', hue='Gender', palette='pastel')\n",
        "plt.title('Hubungan Tinggi dan Berat Superhero')\n",
        "plt.xlabel('Tinggi (cm)')\n",
        "plt.ylabel('Berat (kg)')\n",
        "plt.legend(title='Gender')\n",
        "plt.show()"
      ],
      "metadata": {
        "colab": {
          "base_uri": "https://localhost:8080/",
          "height": 487
        },
        "id": "8i5EUsuMvKOo",
        "outputId": "e8c6fc03-9328-4d04-9ab6-7bd602e0e996"
      },
      "execution_count": null,
      "outputs": [
        {
          "output_type": "display_data",
          "data": {
            "text/plain": [
              "<Figure size 1000x500 with 1 Axes>"
            ],
            "image/png": "[encoded data removed]"
          },
          "metadata": {}
        }
      ]
    },
    {
      "cell_type": "markdown",
      "source": [
        "Dari plot scatter antara tinggi dan berat superhero, kita tidak dapat melihat pola yang jelas antara kedua variabel ini. Namun, terlihat bahwa superhero pria (Male) cenderung memiliki tinggi dan berat yang lebih tinggi dibandingkan dengan superhero wanita (Female)"
      ],
      "metadata": {
        "id": "Ed6Yd9ATvlIK"
      }
    },
    {
      "cell_type": "markdown",
      "source": [
        "## **Verify Data Quality**"
      ],
      "metadata": {
        "id": "g135-MbCIgxd"
      }
    },
    {
      "cell_type": "markdown",
      "source": [
        "#### Missing Values"
      ],
      "metadata": {
        "id": "WvNL-Bw2IhK_"
      }
    },
    {
      "cell_type": "code",
      "source": [
        "missing_values = df.isnull().sum()\n",
        "print(\"Jumlah nilai kosong pada setiap kolom :\")\n",
        "print(missing_values)"
      ],
      "metadata": {
        "colab": {
          "base_uri": "https://localhost:8080/"
        },
        "id": "N_sUUH4tIum2",
        "outputId": "8e629a55-a6b7-4c8f-b347-b4225d060ee7"
      },
      "execution_count": null,
      "outputs": [
        {
          "output_type": "stream",
          "name": "stdout",
          "text": [
            "Jumlah nilai kosong pada setiap kolom :\n",
            "Unnamed: 0     0\n",
            "name           0\n",
            "Gender         0\n",
            "Eye color      0\n",
            "Race           0\n",
            "Hair color     0\n",
            "Height         0\n",
            "Publisher     15\n",
            "Skin color     0\n",
            "Alignment      0\n",
            "Weight         2\n",
            "dtype: int64\n"
          ]
        }
      ]
    },
    {
      "cell_type": "markdown",
      "source": [
        "1. name : Tidak ada nilai kosong\n",
        " - Kolom ini berisi nama karakter superhero dan tidak ada nilai yang hilang, sehingga data lengkap\n",
        "\n",
        "2. Gender : Tidak ada nilai kosong\n",
        " - Kolom ini berisi informasi tentang jenis kelamin karakter superhero (misalnya Male, Female) dan tidak ada nilai yang hilang, sehingga data lengkap\n",
        "\n",
        "3. Eye color : Tidak ada nilai kosong\n",
        "  - Kolom ini berisi informasi tentang warna mata karakter superhero dan tidak ada nilai yang hilang, sehingga data lengkap\n",
        "\n",
        "4. Race : Tidak ada nilai kosong\n",
        "  - Kolom ini berisi informasi tentang ras karakter superhero dan tidak ada nilai yang hilang, sehingga data lengkap\n",
        "\n",
        "5. Hair color : Tidak ada nilai kosong\n",
        "  - Kolom ini berisi informasi tentang warna rambut karakter superhero dan tidak ada nilai yang hilang, sehingga data lengkap\n",
        "\n",
        "6. Height : Tidak ada nilai kosong\n",
        "  - Kolom ini berisi informasi tentang tinggi karakter superhero dalam centimeter dan tidak ada nilai yang hilang, sehingga data lengkap\n",
        "\n",
        "7. Publisher : Terdapat 15 nilai kosong\n",
        "  - Kolom ini berisi informasi tentang penerbit karakter superhero. Terdapat 15 nilai yang kosong, sehingga diperlukan penanganan lebih lanjut seperti mengisi nilai kosong atau menghapus baris yang memiliki nilai kosong\n",
        "\n",
        "8. Skin color : Tidak ada nilai kosong\n",
        "  - Kolom ini berisi informasi tentang warna kulit karakter superhero dan tidak ada nilai yang hilang, sehingga data lengkap\n",
        "\n",
        "9. Alignment : Tidak ada nilai kosong\n",
        "  - Kolom ini berisi informasi tentang orientasi karakter superhero (misalnya good, bad) dan tidak ada nilai yang hilang, sehingga data lengkap\n",
        "\n",
        "10. Weight : Terdapat 2 nilai kosong\n",
        "  - Kolom ini berisi informasi tentang berat karakter superhero dalam kilogram. Terdapat 2 nilai yang kosong, sehingga diperlukan penanganan lebih lanjut seperti mengisi nilai kosong atau menghapus baris yang memiliki nilai kosong."
      ],
      "metadata": {
        "id": "q2E2YCJeIvCl"
      }
    },
    {
      "cell_type": "markdown",
      "source": [
        "#### Outliers Values"
      ],
      "metadata": {
        "id": "8qq9BrCWIvaa"
      }
    },
    {
      "cell_type": "code",
      "source": [
        "def detect_outliers(column):\n",
        "    column = pd.to_numeric(column, errors='coerce')\n",
        "    Q1 = column.quantile(0.25)\n",
        "    Q3 = column.quantile(0.75)\n",
        "    IQR = Q3 - Q1\n",
        "    lower_bound = Q1 - 1.5 * IQR\n",
        "    upper_bound = Q3 + 1.5 * IQR\n",
        "    outliers = column[(column < lower_bound) | (column > upper_bound)]\n",
        "    return outliers\n",
        "\n",
        "for column in df.columns:\n",
        "    outliers = detect_outliers(df[column])\n",
        "    print(f\"Kolom '{column}':\")\n",
        "    print(f\"- Jumlah outliers: {len(outliers)}\")"
      ],
      "metadata": {
        "colab": {
          "base_uri": "https://localhost:8080/"
        },
        "id": "w-nhFXfhIzvb",
        "outputId": "8d2e5d6d-daf8-43db-ebe9-7a41ddafa408"
      },
      "execution_count": null,
      "outputs": [
        {
          "output_type": "stream",
          "name": "stdout",
          "text": [
            "Kolom 'Unnamed: 0':\n",
            "- Jumlah outliers: 0\n",
            "Kolom 'name':\n",
            "- Jumlah outliers: 0\n",
            "Kolom 'Gender':\n",
            "- Jumlah outliers: 0\n",
            "Kolom 'Eye color':\n",
            "- Jumlah outliers: 0\n",
            "Kolom 'Race':\n",
            "- Jumlah outliers: 0\n",
            "Kolom 'Hair color':\n",
            "- Jumlah outliers: 0\n",
            "Kolom 'Height':\n",
            "- Jumlah outliers: 3\n",
            "Kolom 'Publisher':\n",
            "- Jumlah outliers: 0\n",
            "Kolom 'Skin color':\n",
            "- Jumlah outliers: 0\n",
            "Kolom 'Alignment':\n",
            "- Jumlah outliers: 0\n",
            "Kolom 'Weight':\n",
            "- Jumlah outliers: 17\n"
          ]
        }
      ]
    },
    {
      "cell_type": "markdown",
      "source": [
        "1. Kolom 'name' :\n",
        "  - Jumlah outliers : 0\n",
        "  - Penjelasan : Kolom 'name' merupakan kolom yang berisi nama karakter superhero. Karena nama adalah informasi unik dan tidak memiliki skala, maka konsep outliers tidak berlaku di sini. Jumlah outliers adalah 0 karena tidak relevan untuk kolom ini.\n",
        "\n",
        "2. Kolom 'Gender' :\n",
        "  - Jumlah outliers : 0\n",
        "  - Penjelasan : Kolom 'Gender' berisi informasi tentang jenis kelamin karakter superhero (misalnya Male, Female). Karena jenis kelamin adalah variabel kategorikal dan tidak memiliki nilai numerik, maka konsep outliers tidak berlaku di sini. Jumlah outliers adalah 0 karena tidak relevan untuk kolom ini.\n",
        "\n",
        "3. Kolom 'Eye color' :\n",
        "  - Jumlah outliers : 0\n",
        "  - Penjelasan : Kolom 'Eye color' berisi informasi tentang warna mata karakter superhero. Karena warna mata adalah variabel kategorikal dan tidak memiliki nilai numerik, maka konsep outliers tidak berlaku di sini. Jumlah outliers adalah 0 karena tidak relevan untuk kolom ini.\n",
        "\n",
        "4. Kolom 'Race' :\n",
        "  - Jumlah outliers : 0\n",
        "  - Penjelasan : Kolom 'Race' berisi informasi tentang ras karakter superhero. Karena ras adalah variabel kategorikal dan tidak memiliki nilai numerik, maka konsep outliers tidak berlaku di sini. Jumlah outliers adalah 0 karena tidak relevan untuk kolom ini.\n",
        "\n",
        "5. Kolom 'Hair color' :\n",
        "  - Jumlah outliers : 0\n",
        "  - Penjelasan : Kolom 'Hair color' berisi informasi tentang warna rambut karakter superhero. Karena warna rambut adalah variabel kategorikal dan tidak memiliki nilai numerik, maka konsep outliers tidak berlaku di sini. Jumlah outliers adalah 0 karena tidak relevan untuk kolom ini.\n",
        "\n",
        "6. Kolom 'Height' :\n",
        "  - Jumlah outliers : 3\n",
        "  - Penjelasan : Kolom 'Height' berisi informasi tentang tinggi karakter superhero dalam centimeter. Outliers pada kolom 'Height' menunjukkan adanya nilai yang jauh dari sebagian besar nilai lain dalam dataset. Outliers ini mungkin disebabkan oleh kesalahan pengukuran atau karakteristik khusus dari karakter superhero tertentu. Pengelolaan outliers dapat diperlukan untuk menganalisis data lebih lanjut.\n",
        "\n",
        "7. Kolom 'Publisher' :\n",
        "  - Jumlah outliers : 0\n",
        "  - Penjelasan : Kolom 'Publisher' berisi informasi tentang penerbit karakter superhero (misalnya Marvel Comics, DC Comics). Karena penerbit adalah variabel kategorikal dan tidak memiliki nilai numerik, maka konsep outliers tidak berlaku di sini. Jumlah outliers adalah 0 karena tidak relevan untuk kolom ini.\n",
        "\n",
        "8. Kolom 'Skin color' :\n",
        "  - Jumlah outliers : 0\n",
        "  - Penjelasan : Kolom 'Skin color' berisi informasi tentang warna kulit karakter superhero. Karena warna kulit adalah variabel kategorikal dan tidak memiliki nilai numerik, maka konsep outliers tidak berlaku di sini. Jumlah outliers adalah 0 karena tidak relevan untuk kolom ini.\n",
        "\n",
        "9. Kolom 'Alignment' :\n",
        "  - Jumlah outliers : 0\n",
        "  - Penjelasan : Kolom 'Alignment' berisi informasi tentang orientasi karakter superhero (misalnya good, bad). Karena orientasi adalah variabel kategorikal dan tidak memiliki nilai numerik, maka konsep outliers tidak berlaku di sini. Jumlah outliers adalah 0 karena tidak relevan untuk kolom ini.\n",
        "\n",
        "10. Kolom 'Weight' :\n",
        "  - Jumlah outliers : 17\n",
        "  - Penjelasan : Kolom 'Weight' berisi informasi tentang berat karakter superhero dalam kilogram. Outliers pada kolom 'Weight' menunjukkan adanya nilai yang jauh dari sebagian besar nilai lain dalam dataset. Outliers ini mungkin disebabkan oleh kesalahan pengukuran atau karakteristik khusus dari karakter superhero tertentu. Pengelolaan outliers dapat diperlukan untuk menganalisis data lebih lanjut."
      ],
      "metadata": {
        "id": "jsnlQ843I0L4"
      }
    },
    {
      "cell_type": "markdown",
      "source": [
        "#### Duplicated Values"
      ],
      "metadata": {
        "id": "Lb_Kxk5EI0lv"
      }
    },
    {
      "cell_type": "code",
      "source": [
        "for column in df.columns:\n",
        "    duplicate_rows = df[df.duplicated(column)]\n",
        "    print(f\"Kolom '{column}' memiliki {len(duplicate_rows)} nilai duplikat.\")"
      ],
      "metadata": {
        "colab": {
          "base_uri": "https://localhost:8080/"
        },
        "id": "eKut4zgmI5TP",
        "outputId": "63c08d56-aeef-45d5-8e2e-9d9c27e4fe05"
      },
      "execution_count": null,
      "outputs": [
        {
          "output_type": "stream",
          "name": "stdout",
          "text": [
            "Kolom 'Unnamed: 0' memiliki 0 nilai duplikat.\n",
            "Kolom 'name' memiliki 19 nilai duplikat.\n",
            "Kolom 'Gender' memiliki 731 nilai duplikat.\n",
            "Kolom 'Eye color' memiliki 711 nilai duplikat.\n",
            "Kolom 'Race' memiliki 672 nilai duplikat.\n",
            "Kolom 'Hair color' memiliki 704 nilai duplikat.\n",
            "Kolom 'Height' memiliki 680 nilai duplikat.\n",
            "Kolom 'Publisher' memiliki 709 nilai duplikat.\n",
            "Kolom 'Skin color' memiliki 717 nilai duplikat.\n",
            "Kolom 'Alignment' memiliki 730 nilai duplikat.\n",
            "Kolom 'Weight' memiliki 598 nilai duplikat.\n"
          ]
        }
      ]
    },
    {
      "cell_type": "markdown",
      "source": [
        "1. Kolom 'name' :\n",
        "  - Jumlah nilai duplikat : 19\n",
        "  - Penjelasan : Kolom 'name' berisi nama karakter superhero. Terdapat 19 nilai duplikat yang menandakan ada karakter superhero yang memiliki nama yang sama. Dalam beberapa konteks, mungkin terdapat karakter superhero dengan nama yang sama, tetapi perlu dipastikan apakah duplikat tersebut berasal dari kesalahan pengumpulan data atau karakter yang memang memiliki nama yang sama.\n",
        "\n",
        "2. Kolom 'Gender' :\n",
        "  - Jumlah nilai duplikat : 731\n",
        "  - Penjelasan : Kolom 'Gender' berisi informasi tentang jenis kelamin karakter superhero. Terdapat 731 nilai duplikat yang menandakan adanya karakter superhero dengan jenis kelamin yang sama. Jumlah duplikat yang tinggi mungkin disebabkan oleh karakteristik data yang unik, atau bisa juga karena kesalahan dalam proses pengumpulan atau penyimpanan data.\n",
        "\n",
        "3. Kolom 'Eye color' :\n",
        "  - Jumlah nilai duplikat : 711\n",
        "  - Penjelasan : Kolom 'Eye color' berisi informasi tentang warna mata karakter superhero. Terdapat 711 nilai duplikat yang menandakan adanya karakter superhero dengan warna mata yang sama. Jumlah duplikat yang tinggi mungkin disebabkan oleh karakteristik data yang unik, atau bisa juga karena kesalahan dalam proses pengumpulan atau penyimpanan data\n",
        "\n",
        "4. Kolom 'Race' :\n",
        "  - Jumlah nilai duplikat : 672\n",
        "  - Penjelasan : Kolom 'Race' berisi informasi tentang ras karakter superhero. Terdapat 672 nilai duplikat yang menandakan adanya karakter superhero dengan ras yang sama. Jumlah duplikat yang tinggi mungkin disebabkan oleh karakteristik data yang unik, atau bisa juga karena kesalahan dalam proses pengumpulan atau penyimpanan data.\n",
        "\n",
        "5. Kolom 'Hair color' :\n",
        "  - Jumlah nilai duplikat : 704\n",
        "  - Penjelasan : Kolom 'Hair color' berisi informasi tentang warna rambut karakter superhero. Terdapat 704 nilai duplikat yang menandakan adanya karakter superhero dengan warna rambut yang sama. Jumlah duplikat yang tinggi mungkin disebabkan oleh karakteristik data yang unik, atau bisa juga karena kesalahan dalam proses pengumpulan atau penyimpanan data.\n",
        "\n",
        "6. Kolom 'Height' :\n",
        "  - Jumlah nilai duplikat : 680\n",
        "  - Penjelasan : Kolom 'Height' berisi informasi tentang tinggi karakter superhero dalam sentimeter. Terdapat 680 nilai duplikat yang menandakan adanya karakter superhero dengan tinggi yang sama. Jumlah duplikat yang tinggi mungkin disebabkan oleh karakteristik data yang unik, atau bisa juga karena kesalahan dalam proses pengumpulan atau penyimpanan data.\n",
        "\n",
        "7. Kolom 'Publisher' :\n",
        "  - Jumlah nilai duplikat : 709\n",
        "  - Penjelasan : Kolom 'Publisher' berisi informasi tentang penerbit karakter superhero. Terdapat 709 nilai duplikat yang menandakan adanya karakter superhero dengan penerbit yang sama. Jumlah duplikat yang tinggi mungkin disebabkan oleh karakteristik data yang unik, atau bisa juga karena kesalahan dalam proses pengumpulan atau penyimpanan data.\n",
        "\n",
        "8. Kolom 'Skin color' :\n",
        "  - Jumlah nilai duplikat : 717\n",
        "  - Penjelasan : Kolom 'Skin color' berisi informasi tentang warna kulit karakter superhero. Terdapat 717 nilai duplikat yang menandakan adanya karakter superhero dengan warna kulit yang sama. Jumlah duplikat yang tinggi mungkin disebabkan oleh karakteristik data yang unik, atau bisa juga karena kesalahan dalam proses pengumpulan atau penyimpanan data.\n",
        "\n",
        "9. Kolom 'Alignment' :\n",
        "  - Jumlah nilai duplikat : 730\n",
        "  - Penjelasan : Kolom 'Alignment' berisi informasi tentang orientasi karakter superhero (misalnya good, bad). Terdapat 730 nilai duplikat yang menandakan adanya karakter superhero dengan orientasi yang sama. Jumlah duplikat yang tinggi mungkin disebabkan oleh karakteristik data yang unik, atau bisa juga karena kesalahan dalam proses pengumpulan atau penyimpanan data.\n",
        "\n",
        "10. Kolom 'Weight' :\n",
        "  - Jumlah nilai duplikat : 598\n",
        "  - Penjelasan : Kolom 'Weight' berisi informasi tentang berat karakter superhero dalam kilogram. Terdapat 598 nilai duplikat yang menandakan adanya karakter superhero dengan berat yang sama. Jumlah duplikat yang tinggi mungkin disebabkan oleh karakteristik data yang unik, atau bisa juga karena kesalahan dalam proses pengumpulan atau penyimpanan data."
      ],
      "metadata": {
        "id": "q9pTll0pI5ur"
      }
    },
    {
      "cell_type": "markdown",
      "source": [
        "#### Inconsistent Values / Noise (Optional)"
      ],
      "metadata": {
        "id": "ig-t4cZqI6Fj"
      }
    },
    {
      "cell_type": "markdown",
      "source": [],
      "metadata": {
        "id": "L8ktBjXCI-uU"
      }
    }
  ]
}